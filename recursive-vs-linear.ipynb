{
 "cells": [
  {
   "cell_type": "markdown",
   "metadata": {},
   "source": [
    "# Discrete Fréchet Distance - Recursive or Linear?\n",
    "This notebook presents two alternative implementations of the discrete Fréchet distance calculation. The first implementation is the recursive version as proposed by Eiter an Mannila. The second implementation is linear and emerged as an insight from the first.\n",
    "\n",
    "We start by importing the required Python packages."
   ]
  },
  {
   "cell_type": "code",
   "execution_count": null,
   "metadata": {},
   "outputs": [],
   "source": [
    "import numpy as np\n",
    "import matplotlib.pyplot as plt\n",
    "import math\n",
    "\n",
    "from distances.discrete import euclidean\n",
    "from typing import Callable\n",
    "from numba import jit"
   ]
  },
  {
   "cell_type": "markdown",
   "metadata": {},
   "source": [
    "Now we define the sample poly-lines for later use. These live in R<sup>2</sup> and we will use the euclidean distance to measure pointwise distances."
   ]
  },
  {
   "cell_type": "code",
   "execution_count": null,
   "metadata": {},
   "outputs": [],
   "source": [
    "p = np.array([[0.2, 2.0], \n",
    "              [1.5, 2.8], \n",
    "              [2.3, 1.6], \n",
    "              [2.9, 1.8], \n",
    "              [4.1, 3.1], \n",
    "              [5.6, 2.9], \n",
    "              [7.2, 1.3],\n",
    "              [8.2, 1.1]])"
   ]
  },
  {
   "cell_type": "code",
   "execution_count": null,
   "metadata": {},
   "outputs": [],
   "source": [
    "q = np.array([[0.3, 1.6], \n",
    "              [3.2, 3.0], \n",
    "              [3.8, 1.8],  \n",
    "              [5.2, 3.1], \n",
    "              [6.5, 2.8], \n",
    "              [7.0, 0.8],\n",
    "              [8.9, 0.6]])"
   ]
  },
  {
   "cell_type": "markdown",
   "metadata": {},
   "source": [
    "## Recursive Implementation\n",
    "Below is the recursive implementation of the discrete Fréchet distance. The `recursive_frechet` sets up a few global variables and then calls the `calculate` function. This function calls itself in five different locations. Following the return order of matrix indices, you can see that they are being generated in a sequential fashion: column first, then row. This is a great hint to improve on this algorithm with a sequential (non -recursive) one.\n",
    "\n",
    "**Note**: the `@jit` annotations enable the Numba just-in-time compiler. When measuring performance of this code, always account for the initial compilation that makes the code run slightly slower the first time."
   ]
  },
  {
   "cell_type": "code",
   "execution_count": null,
   "metadata": {},
   "outputs": [],
   "source": [
    "@jit(nopython=True)\n",
    "def calculate(ca: np.ndarray, i: int, j: int, dist_func: Callable[[np.ndarray, np.ndarray], float]) -> float:\n",
    "    \"\"\"\n",
    "    Calculates the distance between p[i] and q[i]\n",
    "    :param i: Index into poly-line p\n",
    "    :param j: Index into poly-line q\n",
    "    :return: Distance value\n",
    "    \"\"\"\n",
    "    if ca[i, j] > -1.0:\n",
    "        # Uncomment the line below to see when the code does the dynamic programming trick: reuses already-calculated values\n",
    "        # print(i, j, \"*\")\n",
    "        return ca[i, j]\n",
    "\n",
    "    # Uncomment the line below to follow the order of recursive calls\n",
    "    # print(i, j)\n",
    "    d = dist_func(p[i], q[j])\n",
    "    if i > 0 and j > 0:\n",
    "        ca[i, j] = max(min(calculate(ca, i-1, j, dist_func),\n",
    "                           calculate(ca, i-1, j-1, dist_func),\n",
    "                           calculate(ca, i, j-1, dist_func)), d)\n",
    "    elif i > 0 and j == 0:\n",
    "        ca[i, j] = max(calculate(ca, i-1, 0, dist_func), d)\n",
    "    elif i == 0 and j > 0:\n",
    "        ca[i, j] = max(calculate(ca, 0, j-1, dist_func), d)\n",
    "    elif i == 0 and j == 0:\n",
    "        ca[i, j] = d\n",
    "    else:\n",
    "        ca[i, j] = np.infty\n",
    "    # Uncomment the line below to follow the return order of the calculated values.\n",
    "    # This is how the order of the returned coordinates was calculated in the Medium article.\n",
    "    # print(i, j)\n",
    "    return ca[i, j]\n",
    "\n",
    "\n",
    "@jit(nopython=True)\n",
    "def recursive_frechet(p: np.ndarray, q: np.ndarray, dist_func: Callable[[np.ndarray, np.ndarray], float]) -> float:\n",
    "    \"\"\"\n",
    "    Calculates the Fréchet distance between poly-lines p and q\n",
    "    This function implements the algorithm described by Eiter & Mannila\n",
    "    :param p: Poly-line p\n",
    "    :param q: Poly-line q\n",
    "    :return: Distance value\n",
    "    \"\"\"\n",
    "    n_p = p.shape[0]\n",
    "    n_q = q.shape[0]\n",
    "    ca = np.zeros((n_p, n_q), dtype=np.float64)\n",
    "    ca.fill(-1.0)\n",
    "\n",
    "    return calculate(ca, n_p - 1, n_q - 1, dist_func)"
   ]
  },
  {
   "cell_type": "markdown",
   "metadata": {},
   "source": [
    "Use the cell below to execute or time the recursive call. Uncomment the first line to time the call, and remember to run it twice!"
   ]
  },
  {
   "cell_type": "code",
   "execution_count": null,
   "metadata": {},
   "outputs": [],
   "source": [
    "#%%timeit\n",
    "recursive_frechet(p, q, euclidean)"
   ]
  },
  {
   "cell_type": "markdown",
   "metadata": {},
   "source": [
    "## Linear Implementation\n",
    "The linear implementation uses two simple nested loops to do its job. This insight was drawn by studying how the recursive version works, and leads to a slightly better runtime and much improved call stack usage."
   ]
  },
  {
   "cell_type": "code",
   "execution_count": null,
   "metadata": {},
   "outputs": [],
   "source": [
    "@jit(nopython=True)\n",
    "def linear_frechet(p: np.ndarray, q: np.ndarray, dist_func: Callable[[np.ndarray, np.ndarray], float]) -> float:\n",
    "    n_p = p.shape[0]\n",
    "    n_q = q.shape[0]\n",
    "    ca = np.zeros((n_p, n_q), dtype=np.float64)\n",
    "\n",
    "    for i in range(n_p):\n",
    "        for j in range(n_q):\n",
    "            d = dist_func(p[i], q[j])\n",
    "\n",
    "            if i > 0 and j > 0:\n",
    "                ca[i, j] = max(min(ca[i - 1, j],\n",
    "                                   ca[i - 1, j - 1],\n",
    "                                   ca[i, j - 1]), d)\n",
    "            elif i > 0 and j == 0:\n",
    "                ca[i, j] = max(ca[i - 1, 0], d)\n",
    "            elif i == 0 and j > 0:\n",
    "                ca[i, j] = max(ca[0, j - 1], d)\n",
    "            elif i == 0 and j == 0:\n",
    "                ca[i, j] = d\n",
    "            else:\n",
    "                ca[i, j] = np.infty\n",
    "    return ca[n_p - 1, n_q - 1]"
   ]
  },
  {
   "cell_type": "markdown",
   "metadata": {},
   "source": [
    "Same as before, for the linear implementation."
   ]
  },
  {
   "cell_type": "code",
   "execution_count": null,
   "metadata": {},
   "outputs": [],
   "source": [
    "%%timeit\n",
    "linear_frechet(p, q, euclidean)"
   ]
  },
  {
   "cell_type": "markdown",
   "metadata": {},
   "source": [
    "There is still room for improvement as we will see in another notebook. When calculating large polylines, most of the distance matrix is actually useless to calculate the implicit free-space diagram. Removing these distance calculations will further improve the calculation performance."
   ]
  }
 ],
 "metadata": {
  "kernelspec": {
   "display_name": "Python 3",
   "language": "python",
   "name": "python3"
  },
  "language_info": {
   "codemirror_mode": {
    "name": "ipython",
    "version": 3
   },
   "file_extension": ".py",
   "mimetype": "text/x-python",
   "name": "python",
   "nbconvert_exporter": "python",
   "pygments_lexer": "ipython3",
   "version": "3.6.8"
  }
 },
 "nbformat": 4,
 "nbformat_minor": 4
}
